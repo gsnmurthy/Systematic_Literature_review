{
 "cells": [
  {
   "cell_type": "markdown",
   "metadata": {},
   "source": [
    "#  Sytematic Review for \"Gateway to the perspectives of the Food-Energy-Water Nexus\"\n",
    "\n",
    "If you have any questions please contact Kyle Proctor (proctork@oregonstate.edu) or Ganti S. Murthy (ganti.murthy@oregonstate.edu)\n",
    "\n",
    "This code was used to conduct a systematic review to identify publishing trends related to the FEW nexus. The review looks at how the quantity of FEW nexus studies has changed over the years, where those studies were coming from, and which journals they were being published in. \n",
    "\n",
    "The analysis was conducted using the Pyscopus plugin for python (http://zhiyzuo.github.io/python-scopus/). Pyscopus is a wrapper for the scopus API; the world’s largest database of peer reviewed literature. \n",
    "\n",
    "## Use of this code requires a scopus API KEY \n",
    "scopus API keys can be obtained at this link (https://dev.elsevier.com/) a variable named \"key\" must then be created which is the value of the scopus key enclosed in single quotation marks\n",
    "for example : key = 'yourscoupuskeyhere' ( be sure there are no spaces within the quotation marks)\n",
    "\n",
    "The analysis provided here will produce all papers which match the corresponding keywords and were produced in 2011 or later. The analysis used in the journal article was conducted at the end of July and thus shows all papers produced before August 1st 2019\n",
    "The majorority of the work here is done by the pyscopus software which returns a dataframe with all of the papers, the remainder of the code is data manipulation for visualization/"
   ]
  },
  {
   "cell_type": "code",
   "execution_count": null,
   "metadata": {},
   "outputs": [],
   "source": [
    "#Install and import pyscopus plug in and other usefull libraries\n",
    "import sys\n",
    "!{sys.executable} -m pip install pyscopus\n",
    "!{sys.executable} -m pip install requests\n",
    "!{sys.executable} -m pip install openpyxl\n",
    "!{sys.executable} -m pip install numpy\n",
    "!{sys.executable} -m pip install pandas\n",
    "!{sys.executable} -m pip install matplotlib\n",
    "import pyscopus\n",
    "import numpy as np\n",
    "import matplotlib.pyplot as plt\n",
    "import pandas as pd "
   ]
  },
  {
   "cell_type": "code",
   "execution_count": null,
   "metadata": {},
   "outputs": [],
   "source": [
    "#input scopus API key (get one here https://dev.elsevier.com/)\n",
    "from pyscopus import Scopus\n",
    "key='' # you need to enter your own scopus API key here\n",
    "scopus= Scopus(key);\n"
   ]
  },
  {
   "cell_type": "code",
   "execution_count": null,
   "metadata": {},
   "outputs": [],
   "source": [
    "#This function is where all the analysis is conducted, It produces 2 charts and 3 tables. \n",
    "# Chart 1 The papers published by year and corresponding table\n",
    "# Chart 2 The papers publihed by country and corresponding table\n",
    "# Table 3 The papers published by Journal name\n",
    "# The function can be used on any dataset produced by pyscopus\n",
    "\n",
    "\n",
    "def Systematic_Review(Search_Dataset): # Search_Dataset set will be the results from pyscopus\n",
    "    \n",
    "    # these lines convert the cover date of the article into simply the year of the article and convert from str type\n",
    "    # to intereger for later analysis     \n",
    "    cover_date=Search_Dataset['cover_date']\n",
    "    pubYear=cover_date.str.split('-',n=1, expand=True)\n",
    "    Search_Dataset['cover_date']=pubYear\n",
    "    year=Search_Dataset['cover_date'].astype(int)\n",
    "    publisherData=Search_Dataset['publication_name'] # aquire Name of Journal article was published in\n",
    "   \n",
    "    # The affiliation column has a large amount of information about \n",
    "    # where the paper came from, university, city, etc. in this case we only want information about the \n",
    "    # Country of the first Authors institution, these lines get that data and save it as CD\n",
    "    location=Search_Dataset['affiliation']; location = location.astype(str);location.dropna(inplace = True) \n",
    "    country=location.str.split(\"country\",n=1,expand=True);country1=country[1];countryT=country1.str.split(\"}\",n=1,expand=True)\n",
    "    CountryData=countryT[0]\n",
    "    CD=CountryData.str.slice(4, -1)\n",
    "    CD=CD[CD!='on'] #removing any areas which have \"none\" listed as the country  \n",
    "    \n",
    "    # create a table showing how many papers were published each year\n",
    "    pub_count=year.value_counts() #Count of how many publications were published each year\n",
    "    pub_Perc=pub_count/len(year) # percentage of publications published in this year\n",
    "    Year_published = np.transpose(np.array(pub_Perc.index)) \n",
    "    pub_table=pd.DataFrame(np.c_[Year_published,pub_count,pub_Perc],columns=[\"Year\",\"count\",\"percent\"]) \n",
    "    \n",
    "    # plot histogram of publications by year\n",
    "    plt.title('Publications by Year')\n",
    "    plt.xlabel('Year')\n",
    "    plt.ylabel('# of publications')\n",
    "    \n",
    "    # Ensure that each year has its own Bin, starting from 2011 until the current year - note if the search\n",
    "    # timeframe is changed these lines must also be\n",
    "    bins=np.linspace(2011,(max(year)+1),(max(year)-2011+2)) \n",
    "    plt.xticks(bins)\n",
    "    hist=plt.hist(year,bins=bins ,rwidth=0.5)\n",
    "    plt.xlim([2010,(max(year)+1)])\n",
    "    plt.show()\n",
    "    \n",
    "    display(pub_table)\n",
    "    \n",
    "    \n",
    "    \n",
    "    #plot the number of publications coming from different countries\n",
    "    plt.figure(figsize=(11,11))\n",
    "    plt.title('Publications by Country')\n",
    "    plt.xlabel('Country of First Author institution')\n",
    "    plt.ylabel('# of publications')\n",
    "    Country_plot=pd.Series(CD).value_counts().plot('bar')\n",
    "    plt.show()\n",
    "    \n",
    "    #Create a table with the papers published from each country\n",
    "    #this table is not displayed because it is very large, to display simply uncomment\n",
    "    CD_count=CD.value_counts()\n",
    "    CD_index= np.transpose(np.array(CD_count.index))\n",
    "    CD_Perc=CD_count/len(CD)\n",
    "    CD_table=pd.DataFrame(np.c_[CD_index,CD_count,CD_Perc],columns=[\"Country\",\"count\",\"percent\"])\n",
    "    #display(CD_table)\n",
    "    \n",
    "    # Create a table with the papers published in each Journal\n",
    "    \n",
    "    JCount=publisherData.value_counts()\n",
    "    JPerc=publisherData.value_counts()/len(CD)\n",
    "    JIndex=np.transpose(np.array(JCount.index))\n",
    "    JournalTable=pd.DataFrame(np.c_[JIndex,JCount,JPerc], columns=['Journal Name',\"count\",\"percent\"])\n",
    "    display(JournalTable)\n",
    "\n",
    "    "
   ]
  },
  {
   "cell_type": "markdown",
   "metadata": {},
   "source": [
    "## All Nexus Papers"
   ]
  },
  {
   "cell_type": "code",
   "execution_count": null,
   "metadata": {},
   "outputs": [],
   "source": [
    "\n",
    "# This is where the search for papers occures, details on the Keywords used here are in the text\n",
    "#D etails about the search syntax detailed here (https://dev.elsevier.com/tips/ScopusSearchTips.htm)\n",
    "\n",
    "mainDataSet = scopus.search(\"TITLE-ABS-KEY(Nexus w/10 Energy AND Water w/10 food) OR TITLE-ABS-KEY(Nexus w/10 food AND energy w/10 food)   PUBYEAR > 2010\", count=1000, view='STANDARD')"
   ]
  },
  {
   "cell_type": "code",
   "execution_count": null,
   "metadata": {},
   "outputs": [],
   "source": [
    "pd.set_option('display.max_colwidth', -1) # ensure full values can be seen\n",
    "display(mainDataSet) \n",
    "mainDataSet.to_csv(\"data.csv\")"
   ]
  },
  {
   "cell_type": "code",
   "execution_count": null,
   "metadata": {},
   "outputs": [],
   "source": [
    "Systematic_Review(mainDataSet)"
   ]
  },
  {
   "cell_type": "markdown",
   "metadata": {},
   "source": [
    "## Ecosystem Perspective "
   ]
  },
  {
   "cell_type": "code",
   "execution_count": null,
   "metadata": {},
   "outputs": [],
   "source": [
    "EcosystemDS= scopus.search(\"TITLE-ABS-KEY(Nexus w/10 Energy AND Water w/10 food) OR TITLE-ABS-KEY(Nexus w/10 food AND energy w/10 food) AND (KEY(LCA) OR KEY(ecosystem) OR KEY(ecological indicators))  PUBYEAR > 2010\", count=1000, view='STANDARD')\n",
    "display(EcosystemDS)"
   ]
  },
  {
   "cell_type": "code",
   "execution_count": null,
   "metadata": {},
   "outputs": [],
   "source": [
    "Systematic_Review(EcosystemDS)"
   ]
  },
  {
   "cell_type": "markdown",
   "metadata": {},
   "source": [
    "## Waste Management Perspective"
   ]
  },
  {
   "cell_type": "code",
   "execution_count": null,
   "metadata": {},
   "outputs": [],
   "source": [
    "WasteDS= scopus.search(\"TITLE-ABS-KEY(Nexus w/10 food AND Energy w/10 Water) AND (KEY(Waste) OR KEY(Circular Economy)) PUBYEAR > 2010\", count=1000, view='STANDARD')\n",
    "display(WasteDS)"
   ]
  },
  {
   "cell_type": "code",
   "execution_count": null,
   "metadata": {},
   "outputs": [],
   "source": [
    "Systematic_Review(WasteDS)"
   ]
  },
  {
   "cell_type": "markdown",
   "metadata": {},
   "source": [
    "## Learing Process Perspective"
   ]
  },
  {
   "cell_type": "code",
   "execution_count": null,
   "metadata": {},
   "outputs": [],
   "source": [
    "LearningDS= scopus.search(\"TITLE-ABS-KEY(Nexus w/10 food AND Energy w/10 Water) AND TITLE-ABS-KEY(Learning Process OR Semiotic)  PUBYEAR > 2010\", count=1000, view='STANDARD')\n",
    "display(LearningDS)"
   ]
  },
  {
   "cell_type": "code",
   "execution_count": null,
   "metadata": {},
   "outputs": [],
   "source": [
    "Systematic_Review(LearningDS)"
   ]
  },
  {
   "cell_type": "markdown",
   "metadata": {},
   "source": [
    "## Institutional Change Perspective"
   ]
  },
  {
   "cell_type": "code",
   "execution_count": null,
   "metadata": {},
   "outputs": [],
   "source": [
    "InstitutionalDS= scopus.search(\"KEY(policy OR institutions OR governance OR government)  AND TITLE-ABS-KEY(Nexus w/10 food AND Energy w/10 Water)  PUBYEAR > 2010\", count=1000, view='STANDARD')\n",
    "display(InstitutionalDS)"
   ]
  },
  {
   "cell_type": "code",
   "execution_count": null,
   "metadata": {},
   "outputs": [],
   "source": [
    "Systematic_Review(InstitutionalDS)"
   ]
  },
  {
   "cell_type": "markdown",
   "metadata": {},
   "source": [
    "## Stakeholder Trust Perspective"
   ]
  },
  {
   "cell_type": "code",
   "execution_count": null,
   "metadata": {},
   "outputs": [],
   "source": [
    "TrustDS= scopus.search(\"KEY( Stakeholder) OR KEY(critical social science) AND TITLE-ABS-KEY(Nexus w/10 food AND Energy w/10 Water)  PUBYEAR > 2010\", count=1000, view='STANDARD')\n",
    "display(TrustDS)"
   ]
  },
  {
   "cell_type": "code",
   "execution_count": null,
   "metadata": {},
   "outputs": [],
   "source": [
    "Systematic_Review(TrustDS)"
   ]
  }
 ],
 "metadata": {
  "kernelspec": {
   "display_name": "Python 3",
   "language": "python",
   "name": "python3"
  },
  "language_info": {
   "codemirror_mode": {
    "name": "ipython",
    "version": 3
   },
   "file_extension": ".py",
   "mimetype": "text/x-python",
   "name": "python",
   "nbconvert_exporter": "python",
   "pygments_lexer": "ipython3",
   "version": "3.6.9"
  }
 },
 "nbformat": 4,
 "nbformat_minor": 2
}
